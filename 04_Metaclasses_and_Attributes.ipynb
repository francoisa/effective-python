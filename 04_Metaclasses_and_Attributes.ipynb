{
 "cells": [
  {
   "cell_type": "markdown",
   "metadata": {
    "collapsed": true
   },
   "source": [
    "# Item 29: Use Plain Attributes Instead of Get and Set Methods\n",
    "\n",
    "# Item 30: Consider @property Instead of Refactoring Attributes\n",
    "\n",
    "# Item 31: Use Descriptors for Reusable @property Methods\n",
    "\n",
    "# Item 32: Use __getattr__, __getattribute__, and __setattr__ for Lazy Attributes\n",
    "\n",
    "# Item 33: Validate Subclasses with Metaclasses\n",
    "\n",
    "# Item 34: Register Class Existence with Metaclasses\n",
    "\n",
    "# Item 35: Annotate Class Attributes with Metaclasses"
   ]
  }
 ],
 "metadata": {
  "kernelspec": {
   "display_name": "Python 3",
   "language": "python",
   "name": "python3"
  },
  "language_info": {
   "codemirror_mode": {
    "name": "ipython",
    "version": 3
   },
   "file_extension": ".py",
   "mimetype": "text/x-python",
   "name": "python",
   "nbconvert_exporter": "python",
   "pygments_lexer": "ipython3",
   "version": "3.5.3"
  }
 },
 "nbformat": 4,
 "nbformat_minor": 2
}
