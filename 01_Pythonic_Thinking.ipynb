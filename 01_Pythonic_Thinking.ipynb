{
 "cells": [
  {
   "cell_type": "markdown",
   "metadata": {
    "collapsed": true
   },
   "source": [
    "# Item 1: Know Which Version of Python You're Using\n",
    "\n",
    "- python 2\n",
    "- python 3\n",
    "- CPython\n",
    "- Jython\n",
    "- IronPython\n",
    "- PyPy\n",
    "\n",
    "Below is a some script to display the version of python"
   ]
  },
  {
   "cell_type": "code",
   "execution_count": 2,
   "metadata": {},
   "outputs": [
    {
     "name": "stdout",
     "output_type": "stream",
     "text": [
      "sys.version_info(major=3, minor=5, micro=3, releaselevel='final', serial=0)\n",
      "3.5.3 (v3.5.3:1880cb95a742, Jan 16 2017, 16:02:32) [MSC v.1900 64 bit (AMD64)]\n"
     ]
    }
   ],
   "source": [
    "import sys\n",
    "print (sys.version_info)\n",
    "print (sys.version)"
   ]
  },
  {
   "cell_type": "markdown",
   "metadata": {
    "collapsed": true
   },
   "source": [
    "# Item 2: Follow The PEP 8 Style Guide\n",
    "\n",
    "\n",
    "### Whitespace\n",
    "\n",
    "In Python, whitespace is syntactically significant. Python programmers are especially sensitive to the effects of whitespace on code clarity.\n",
    "\n",
    "* Use spaces instead of tabs for indentation.\n",
    "* Use four spaces for each level of syntactically significant indenting.\n",
    "* Lines should be 79 characters in length or less.\n",
    "* Continuations of long expressions onto additional lines should be indented by four extra spaces from their normal indentation level.\n",
    "* In a file, functions and classes should be separated by two blank lines.\n",
    "* In a class, methods should be separated by one blank line.\n",
    "* Don’t put spaces around list indexes, function calls, or keyword argument assignments.\n",
    "* Put one—and only one—space before and after variable assignments.\n",
    "\n",
    "### Naming\n",
    "\n",
    "PEP 8 suggests unique styles of naming for different parts in the language. This makes it easy to distinguish which type corresponds to each name when reading code.\n",
    "\n",
    "* Functions, variables, and attributes should be in lowercase_underscore format.\n",
    "* Protected instance attributes should be in _leading_underscore format.\n",
    "* Private instance attributes should be in __double_leading_underscore format.\n",
    "* Classes and exceptions should be in CapitalizedWord format.\n",
    "* Module-level constants should be in ALL_CAPS format.\n",
    "* Instance methods in classes should use self as the name of the first parameter (which refers to the object).\n",
    "* Class methods should use cls as the name of the first parameter (which refers to the class).\n",
    "\n",
    "### Expressions and Statements\n",
    "\n",
    "The Zen of Python states: “There should be one—and preferably only one—obvious way to do it.” PEP 8 attempts to codify this style in its guidance for expressions and statements.\n",
    "\n",
    "* Use inline negation (if a is not b) instead of negation of positive expressions (if not a is b).\n",
    "* Don’t check for empty values (like [] or '') by checking the length (if len(somelist) == 0). Use if not somelist and assume empty values implicitly evaluate to False.\n",
    "* The same thing goes for non-empty values (like [1] or 'hi'). The statement if somelist is implicitly True for non-empty values.\n",
    "* Avoid single-line if statements, for and while loops, and except compound statements. Spread these over multiple lines for clarity.\n",
    "* Always put import statements at the top of a file.\n",
    "* Always use absolute names for modules when importing them, not names relative to the current module’s own path. For example, to import the foo module from the bar package, you should do from bar import foo, not just import foo.\n",
    "* If you must do relative imports, use the explicit syntax from . import foo.\n",
    "* Imports should be in sections in the following order: standard library modules, third-party modules, your own modules. Each subsection should have imports in alphabetical order."
   ]
  },
  {
   "cell_type": "markdown",
   "metadata": {},
   "source": [
    "# Item 3: Know The Difference Between Bytes, Str, And Unicode\n",
    "\n",
    "In Python 3, there are two types that represent sequences of characters: bytes and str. Instances of bytes contain raw 8-bit values. Instances of str contain Unicode characters.\n",
    "\n",
    "In Python 2, there are two types that represent sequences of characters: str and unicode. In contrast to Python 3, instances of str contain raw 8-bit values. Instances of unicode contain Unicode characters.\n",
    "\n",
    "Here are two Python 3 conversion functions between str and bytes."
   ]
  },
  {
   "cell_type": "code",
   "execution_count": 3,
   "metadata": {
    "collapsed": true
   },
   "outputs": [],
   "source": [
    "def to_str(bytes_or_str):\n",
    "    if isinstance(bytes_or_str, bytes):\n",
    "        value = bytes_or_str.decode('utf-8')\n",
    "    else:\n",
    "        value = bytes_or_str\n",
    "    return value  # Instance of str\n",
    "\n",
    "def to_bytes(bytes_or_str):\n",
    "    if isinstance(bytes_or_str, str):\n",
    "        value = bytes_or_str.encode('utf-8')\n",
    "    else:\n",
    "        value = bytes_or_str\n",
    "    return value  # Instance of bytes"
   ]
  },
  {
   "cell_type": "markdown",
   "metadata": {},
   "source": [
    "In Python 3, the code below breaks:"
   ]
  },
  {
   "cell_type": "code",
   "execution_count": 4,
   "metadata": {},
   "outputs": [
    {
     "ename": "TypeError",
     "evalue": "write() argument must be str, not bytes",
     "output_type": "error",
     "traceback": [
      "\u001b[1;31m---------------------------------------------------------------------------\u001b[0m",
      "\u001b[1;31mTypeError\u001b[0m                                 Traceback (most recent call last)",
      "\u001b[1;32m<ipython-input-4-3060d43f039d>\u001b[0m in \u001b[0;36m<module>\u001b[1;34m()\u001b[0m\n\u001b[0;32m      2\u001b[0m \u001b[1;33m\u001b[0m\u001b[0m\n\u001b[0;32m      3\u001b[0m \u001b[1;32mwith\u001b[0m \u001b[0mopen\u001b[0m\u001b[1;33m(\u001b[0m\u001b[1;34m'/tmp/random.bin'\u001b[0m\u001b[1;33m,\u001b[0m \u001b[1;34m'w'\u001b[0m\u001b[1;33m)\u001b[0m \u001b[1;32mas\u001b[0m \u001b[0mf\u001b[0m\u001b[1;33m:\u001b[0m\u001b[1;33m\u001b[0m\u001b[0m\n\u001b[1;32m----> 4\u001b[1;33m     \u001b[0mf\u001b[0m\u001b[1;33m.\u001b[0m\u001b[0mwrite\u001b[0m\u001b[1;33m(\u001b[0m\u001b[0mos\u001b[0m\u001b[1;33m.\u001b[0m\u001b[0murandom\u001b[0m\u001b[1;33m(\u001b[0m\u001b[1;36m10\u001b[0m\u001b[1;33m)\u001b[0m\u001b[1;33m)\u001b[0m\u001b[1;33m\u001b[0m\u001b[0m\n\u001b[0m",
      "\u001b[1;31mTypeError\u001b[0m: write() argument must be str, not bytes"
     ]
    }
   ],
   "source": [
    "import os\n",
    "\n",
    "with open('/tmp/random.bin', 'w') as f:\n",
    "    f.write(os.urandom(10))"
   ]
  },
  {
   "cell_type": "markdown",
   "metadata": {},
   "source": [
    "Here is the fixed code. Note the addition of the `'b'` to the 2nd parameter of the open statement:"
   ]
  },
  {
   "cell_type": "code",
   "execution_count": null,
   "metadata": {
    "collapsed": true
   },
   "outputs": [],
   "source": [
    "import os\n",
    "\n",
    "with open('/tmp/random.bin', 'wb') as f:\n",
    "    f.write(os.urandom(10))"
   ]
  },
  {
   "cell_type": "markdown",
   "metadata": {},
   "source": [
    "This problem also exists for reading data from files. The solution is the same: Indicate binary mode by using `'rb'` instead of `'r'` when opening a file."
   ]
  }
 ],
 "metadata": {
  "kernelspec": {
   "display_name": "Python 3",
   "language": "python",
   "name": "python3"
  },
  "language_info": {
   "codemirror_mode": {
    "name": "ipython",
    "version": 3
   },
   "file_extension": ".py",
   "mimetype": "text/x-python",
   "name": "python",
   "nbconvert_exporter": "python",
   "pygments_lexer": "ipython3",
   "version": "3.5.3"
  }
 },
 "nbformat": 4,
 "nbformat_minor": 2
}
