{
 "cells": [
  {
   "cell_type": "markdown",
   "metadata": {
    "collapsed": true
   },
   "source": [
    "# Item 1: Know Which Version of Python You're Using\n",
    "\n",
    "- python 2\n",
    "- python 3\n",
    "- CPython\n",
    "- Jython\n",
    "- IronPython\n",
    "- PyPy\n",
    "\n",
    "Below is a some script to display the version of python"
   ]
  },
  {
   "cell_type": "code",
   "execution_count": 32,
   "metadata": {},
   "outputs": [
    {
     "name": "stdout",
     "output_type": "stream",
     "text": [
      "sys.version_info(major=3, minor=5, micro=3, releaselevel='final', serial=0)\n",
      "3.5.3 (v3.5.3:1880cb95a742, Jan 16 2017, 16:02:32) [MSC v.1900 64 bit (AMD64)]\n"
     ]
    }
   ],
   "source": [
    "import sys\n",
    "print (sys.version_info)\n",
    "print (sys.version)"
   ]
  },
  {
   "cell_type": "markdown",
   "metadata": {
    "collapsed": true
   },
   "source": [
    "# Item 2: Follow The PEP 8 Style Guide\n",
    "\n",
    "\n",
    "### Whitespace\n",
    "\n",
    "In Python, whitespace is syntactically significant. Python programmers are especially sensitive to the effects of whitespace on code clarity.\n",
    "\n",
    "* Use spaces instead of tabs for indentation.\n",
    "* Use four spaces for each level of syntactically significant indenting.\n",
    "* Lines should be 79 characters in length or less.\n",
    "* Continuations of long expressions onto additional lines should be indented by four extra spaces from their normal indentation level.\n",
    "* In a file, functions and classes should be separated by two blank lines.\n",
    "* In a class, methods should be separated by one blank line.\n",
    "* Don’t put spaces around list indexes, function calls, or keyword argument assignments.\n",
    "* Put one—and only one—space before and after variable assignments.\n",
    "\n",
    "### Naming\n",
    "\n",
    "PEP 8 suggests unique styles of naming for different parts in the language. This makes it easy to distinguish which type corresponds to each name when reading code.\n",
    "\n",
    "* Functions, variables, and attributes should be in lowercase_underscore format.\n",
    "* Protected instance attributes should be in _leading_underscore format.\n",
    "* Private instance attributes should be in __double_leading_underscore format.\n",
    "* Classes and exceptions should be in CapitalizedWord format.\n",
    "* Module-level constants should be in ALL_CAPS format.\n",
    "* Instance methods in classes should use self as the name of the first parameter (which refers to the object).\n",
    "* Class methods should use cls as the name of the first parameter (which refers to the class).\n",
    "\n",
    "### Expressions and Statements\n",
    "\n",
    "The Zen of Python states: “There should be one—and preferably only one—obvious way to do it.” PEP 8 attempts to codify this style in its guidance for expressions and statements.\n",
    "\n",
    "* Use inline negation (if a is not b) instead of negation of positive expressions (if not a is b).\n",
    "* Don’t check for empty values (like [] or '') by checking the length (if len(somelist) == 0). Use if not somelist and assume empty values implicitly evaluate to False.\n",
    "* The same thing goes for non-empty values (like [1] or 'hi'). The statement if somelist is implicitly True for non-empty values.\n",
    "* Avoid single-line if statements, for and while loops, and except compound statements. Spread these over multiple lines for clarity.\n",
    "* Always put import statements at the top of a file.\n",
    "* Always use absolute names for modules when importing them, not names relative to the current module’s own path. For example, to import the foo module from the bar package, you should do from bar import foo, not just import foo.\n",
    "* If you must do relative imports, use the explicit syntax from . import foo.\n",
    "* Imports should be in sections in the following order: standard library modules, third-party modules, your own modules. Each subsection should have imports in alphabetical order."
   ]
  },
  {
   "cell_type": "markdown",
   "metadata": {},
   "source": [
    "# Item 3: Know The Difference Between Bytes, Str, And Unicode\n",
    "\n",
    "In Python 3, there are two types that represent sequences of characters: bytes and str. Instances of bytes contain raw 8-bit values. Instances of str contain Unicode characters.\n",
    "\n",
    "In Python 2, there are two types that represent sequences of characters: str and unicode. In contrast to Python 3, instances of str contain raw 8-bit values. Instances of unicode contain Unicode characters.\n",
    "\n",
    "Here are two Python 3 conversion functions between str and bytes."
   ]
  },
  {
   "cell_type": "code",
   "execution_count": 33,
   "metadata": {
    "collapsed": true
   },
   "outputs": [],
   "source": [
    "def to_str(bytes_or_str):\n",
    "    if isinstance(bytes_or_str, bytes):\n",
    "        value = bytes_or_str.decode('utf-8')\n",
    "    else:\n",
    "        value = bytes_or_str\n",
    "    return value  # Instance of str\n",
    "\n",
    "def to_bytes(bytes_or_str):\n",
    "    if isinstance(bytes_or_str, str):\n",
    "        value = bytes_or_str.encode('utf-8')\n",
    "    else:\n",
    "        value = bytes_or_str\n",
    "    return value  # Instance of bytes"
   ]
  },
  {
   "cell_type": "markdown",
   "metadata": {},
   "source": [
    "In Python 3, the code below breaks:"
   ]
  },
  {
   "cell_type": "code",
   "execution_count": 34,
   "metadata": {},
   "outputs": [
    {
     "ename": "TypeError",
     "evalue": "write() argument must be str, not bytes",
     "output_type": "error",
     "traceback": [
      "\u001b[1;31m---------------------------------------------------------------------------\u001b[0m",
      "\u001b[1;31mTypeError\u001b[0m                                 Traceback (most recent call last)",
      "\u001b[1;32m<ipython-input-34-3060d43f039d>\u001b[0m in \u001b[0;36m<module>\u001b[1;34m()\u001b[0m\n\u001b[0;32m      2\u001b[0m \u001b[1;33m\u001b[0m\u001b[0m\n\u001b[0;32m      3\u001b[0m \u001b[1;32mwith\u001b[0m \u001b[0mopen\u001b[0m\u001b[1;33m(\u001b[0m\u001b[1;34m'/tmp/random.bin'\u001b[0m\u001b[1;33m,\u001b[0m \u001b[1;34m'w'\u001b[0m\u001b[1;33m)\u001b[0m \u001b[1;32mas\u001b[0m \u001b[0mf\u001b[0m\u001b[1;33m:\u001b[0m\u001b[1;33m\u001b[0m\u001b[0m\n\u001b[1;32m----> 4\u001b[1;33m     \u001b[0mf\u001b[0m\u001b[1;33m.\u001b[0m\u001b[0mwrite\u001b[0m\u001b[1;33m(\u001b[0m\u001b[0mos\u001b[0m\u001b[1;33m.\u001b[0m\u001b[0murandom\u001b[0m\u001b[1;33m(\u001b[0m\u001b[1;36m10\u001b[0m\u001b[1;33m)\u001b[0m\u001b[1;33m)\u001b[0m\u001b[1;33m\u001b[0m\u001b[0m\n\u001b[0m",
      "\u001b[1;31mTypeError\u001b[0m: write() argument must be str, not bytes"
     ]
    }
   ],
   "source": [
    "import os\n",
    "\n",
    "with open('/tmp/random.bin', 'w') as f:\n",
    "    f.write(os.urandom(10))"
   ]
  },
  {
   "cell_type": "markdown",
   "metadata": {},
   "source": [
    "Here is the fixed code. Note the addition of the `'b'` to the 2nd parameter of the open statement:"
   ]
  },
  {
   "cell_type": "code",
   "execution_count": null,
   "metadata": {
    "collapsed": true
   },
   "outputs": [],
   "source": [
    "import os\n",
    "\n",
    "with open('/tmp/random.bin', 'wb') as f:\n",
    "    f.write(os.urandom(10))"
   ]
  },
  {
   "cell_type": "markdown",
   "metadata": {},
   "source": [
    "This problem also exists for reading data from files. The solution is the same: Indicate binary mode by using `'rb'` instead of `'r'` when opening a file."
   ]
  },
  {
   "cell_type": "markdown",
   "metadata": {},
   "source": [
    "# Item 4: Write Helper Functions Instead Of Complex Expressions\n",
    "\n",
    "As soon as your expressions get complicated, it’s time to consider splitting them into smaller pieces and moving logic into helper functions. What you gain in readability always outweighs what brevity may have afforded you. Don’t let Python’s pithy syntax for complex expressions get you into a mess like this.\n",
    "\n",
    "Below is an overly complicated expression for getting values from a dictionary which returns 0 if the value is missing or the key does not exist."
   ]
  },
  {
   "cell_type": "code",
   "execution_count": null,
   "metadata": {
    "collapsed": true
   },
   "outputs": [],
   "source": [
    "from urllib.parse import parse_qs\n",
    "my_values = parse_qs('red=5&blue=0&green=',\n",
    "                     keep_blank_values=True)\n",
    "print('Below are the raw values in the dictionary')\n",
    "print(repr(my_values))\n",
    "\n",
    "print('')\n",
    "print('Below are the cooked values (i.e. with default values)')\n",
    "red = my_values.get('red', [''])\n",
    "red = int(red[0]) if red[0] else 0\n",
    "print('Red:     %r' % red)\n",
    "green = my_values.get('green', [''])\n",
    "green = int(green[0]) if green[0] else 0\n",
    "print('Green:   %r' % green)\n",
    "opacity = my_values.get('opacity', [''])\n",
    "opacity = int(opacity[0]) if opacity[0] else 0\n",
    "print('Opacity: %r' % opacity)"
   ]
  },
  {
   "cell_type": "markdown",
   "metadata": {},
   "source": [
    "Here is a more elegant solution using a helper function for the dictionary default value."
   ]
  },
  {
   "cell_type": "code",
   "execution_count": null,
   "metadata": {
    "collapsed": true
   },
   "outputs": [],
   "source": [
    "def get_first_int(values, key, default=0):\n",
    "    found = values.get(key, [''])\n",
    "    if found[0]:\n",
    "        found = int(found[0])\n",
    "    else:\n",
    "        found = default\n",
    "    return found\n",
    "\n",
    "red = get_first_int(my_values, 'red')\n",
    "print('Red:     %r' % red)\n",
    "green = get_first_int(my_values, 'green')\n",
    "print('Green:   %r' % green)\n",
    "opacity = get_first_int(my_values, 'opacity')\n",
    "print('Opacity: %r' % opacity)"
   ]
  },
  {
   "cell_type": "markdown",
   "metadata": {},
   "source": [
    "# Item 5: Know How To Slice Sequences\n",
    "\n",
    "The basic form of the slicing syntax is somelist[start:end], where start is inclusive and end is exclusive."
   ]
  },
  {
   "cell_type": "code",
   "execution_count": 36,
   "metadata": {},
   "outputs": [
    {
     "name": "stdout",
     "output_type": "stream",
     "text": [
      "First four: ['a', 'b', 'c', 'd']\n",
      "Last four:  ['e', 'f', 'g', 'h']\n",
      "Middle two: ['d', 'e']\n"
     ]
    }
   ],
   "source": [
    "a = ['a', 'b', 'c', 'd', 'e', 'f', 'g', 'h']\n",
    "print('First four:', a[:4])\n",
    "print('Last four: ', a[-4:])\n",
    "print('Middle two:', a[3:-3])"
   ]
  },
  {
   "cell_type": "markdown",
   "metadata": {},
   "source": [
    "When slicing from the start of a list, you should leave out the zero index to reduce visual noise."
   ]
  },
  {
   "cell_type": "code",
   "execution_count": null,
   "metadata": {
    "collapsed": true
   },
   "outputs": [],
   "source": [
    "assert a[:5] == a[0:5]"
   ]
  },
  {
   "cell_type": "markdown",
   "metadata": {},
   "source": [
    "When slicing to the end of a list, you should leave out the final index because it’s redundant."
   ]
  },
  {
   "cell_type": "code",
   "execution_count": null,
   "metadata": {
    "collapsed": true
   },
   "outputs": [],
   "source": [
    "assert a[5:] == a[5:len(a)]"
   ]
  },
  {
   "cell_type": "markdown",
   "metadata": {},
   "source": [
    "Below are several examples of the slice command for reference"
   ]
  },
  {
   "cell_type": "code",
   "execution_count": null,
   "metadata": {
    "collapsed": true
   },
   "outputs": [],
   "source": [
    "print(\"a[:]      = %r\" % a[:])\n",
    "print(\"a[:-1]    = %r\" % a[:-1])\n",
    "print(\"a[4:]     =                     %r\" % a[4:])\n",
    "print(\"a[-3:]    =                          %r\" % a[-3:])\n",
    "print(\"a[2:5]    =           %r\" % a[2:5])\n",
    "print(\"a[2:-1]   =           %r\" % a[2:-1])\n",
    "print(\"a[-3:-1]  =                          %r\" % a[-3:-1])"
   ]
  },
  {
   "cell_type": "markdown",
   "metadata": {},
   "source": [
    "The result of slicing a list is a whole new list. References to the objects from the original list are maintained. Modifying the result of slicing won’t affect the original list."
   ]
  },
  {
   "cell_type": "code",
   "execution_count": 37,
   "metadata": {},
   "outputs": [
    {
     "name": "stdout",
     "output_type": "stream",
     "text": [
      "Before                   :  ['e', 'f', 'g', 'h']\n",
      "After assigning b[1] = 99:  ['e', 99, 'g', 'h']\n",
      "Original array           :  ['a', 'b', 'c', 'd', 'e', 'f', 'g', 'h']\n"
     ]
    }
   ],
   "source": [
    "b = a[4:]\n",
    "print('Before                   : ', b)\n",
    "b[1] = 99\n",
    "print('After assigning b[1] = 99: ', b)\n",
    "print('Original array           : ', a)"
   ]
  },
  {
   "cell_type": "markdown",
   "metadata": {},
   "source": [
    "When used in assignments, slices will replace the specified range in the original list. "
   ]
  },
  {
   "cell_type": "code",
   "execution_count": null,
   "metadata": {
    "collapsed": true
   },
   "outputs": [],
   "source": [
    "print('Before ', a)\n",
    "a[2:7] = [99, 22, 14]\n",
    "print('a[2:7] = [99, 22, 14] converts the array above to: ', a)"
   ]
  },
  {
   "cell_type": "markdown",
   "metadata": {},
   "source": [
    "If you leave out both the start and the end indexes when slicing, you’ll end up with a copy of the original list."
   ]
  },
  {
   "cell_type": "code",
   "execution_count": null,
   "metadata": {
    "collapsed": true
   },
   "outputs": [],
   "source": [
    "b = a[:]\n",
    "assert b == a and b is not a"
   ]
  },
  {
   "cell_type": "markdown",
   "metadata": {},
   "source": [
    "If you assign a slice with no start or end indexes, you’ll replace its entire contents with a copy of what’s referenced (instead of allocating a new list)."
   ]
  },
  {
   "cell_type": "code",
   "execution_count": 42,
   "metadata": {},
   "outputs": [
    {
     "name": "stdout",
     "output_type": "stream",
     "text": [
      "a                           : ['a', 'b', 'c', 'd', 'e', 'f', 'g', 'h']\n",
      "After a[:] = [101, 102, 103]: [101, 102, 103]\n"
     ]
    }
   ],
   "source": [
    "a = ['a', 'b', 'c', 'd', 'e', 'f', 'g', 'h']\n",
    "b = a\n",
    "print('a                           :', a)\n",
    "a[:] = [101, 102, 103]\n",
    "assert a is b           # Still the same list object\n",
    "print('After a[:] = [101, 102, 103]:', a)      # Now has different contents"
   ]
  },
  {
   "cell_type": "markdown",
   "metadata": {},
   "source": [
    "# Item 6: Avoid Using Start, End, And Stride In A Single Slice\n",
    "\n",
    "Python has special syntax for the stride of a slice in the form somelist[start:end:stride]."
   ]
  },
  {
   "cell_type": "code",
   "execution_count": 44,
   "metadata": {},
   "outputs": [
    {
     "name": "stdout",
     "output_type": "stream",
     "text": [
      "a     : ['red', 'orange', 'yellow', 'green', 'blue', 'purple']\n",
      "odds  : ['red', 'yellow', 'blue']\n",
      "evens : ['orange', 'green', 'purple']\n"
     ]
    }
   ],
   "source": [
    "a = ['red', 'orange', 'yellow', 'green', 'blue', 'purple']\n",
    "odds = a[::2]\n",
    "evens = a[1::2]\n",
    "print('a     :', a)\n",
    "print('odds  :', odds)\n",
    "print('evens :', evens)\n"
   ]
  },
  {
   "cell_type": "markdown",
   "metadata": {},
   "source": [
    "A common Python trick for reversing a byte string is to slice the string with a stride of -1."
   ]
  },
  {
   "cell_type": "code",
   "execution_count": 46,
   "metadata": {},
   "outputs": [
    {
     "name": "stdout",
     "output_type": "stream",
     "text": [
      "x      : b'mongoose'\n",
      "x[::-1]: b'esoognom'\n"
     ]
    }
   ],
   "source": [
    "x = b'mongoose'\n",
    "y = x[::-1]\n",
    "print('x      :', x)\n",
    "print('x[::-1]:', y)"
   ]
  },
  {
   "cell_type": "markdown",
   "metadata": {},
   "source": [
    "# Item 7: Use List Comprehensions Instead Of Map And Filter\n",
    "\n",
    "Python provides compact syntax for deriving one list from another. These expressions are called list comprehensions. "
   ]
  },
  {
   "cell_type": "code",
   "execution_count": 55,
   "metadata": {},
   "outputs": [
    {
     "name": "stdout",
     "output_type": "stream",
     "text": [
      "a                : [1, 2, 3, 4, 5, 6, 7, 8, 9, 10]\n",
      "[x**2 for x in a]: [1, 4, 9, 16, 25, 36, 49, 64, 81, 100]\n"
     ]
    }
   ],
   "source": [
    "a = [1, 2, 3, 4, 5, 6, 7, 8, 9, 10]\n",
    "squares = [x**2 for x in a]\n",
    "print('a                :', a)\n",
    "print('[x**2 for x in a]:', squares)"
   ]
  },
  {
   "cell_type": "markdown",
   "metadata": {},
   "source": [
    "If you only want to compute the squares of the numbers that are divisible by 2. "
   ]
  },
  {
   "cell_type": "code",
   "execution_count": 56,
   "metadata": {},
   "outputs": [
    {
     "name": "stdout",
     "output_type": "stream",
     "text": [
      "[x for x in a if x % 2 == 0]   : [2, 4, 6, 8, 10]\n",
      "[x**2 for x in a if x % 2 == 0]: [4, 16, 36, 64, 100]\n"
     ]
    }
   ],
   "source": [
    "even_squares = [x**2 for x in a if x % 2 == 0]\n",
    "even = [x for x in a if x % 2 == 0]\n",
    "print('[x for x in a if x % 2 == 0]   :', even)\n",
    "print('[x**2 for x in a if x % 2 == 0]:', even_squares)"
   ]
  },
  {
   "cell_type": "markdown",
   "metadata": {},
   "source": [
    "# Item 8: Avoid More Than Two Expressions In List Comprehensions\n",
    "\n",
    "If you want to simplify a matrix (a list containing other lists) into one flat list of all cells. "
   ]
  },
  {
   "cell_type": "code",
   "execution_count": 57,
   "metadata": {},
   "outputs": [
    {
     "name": "stdout",
     "output_type": "stream",
     "text": [
      "[1, 2, 3, 4, 5, 6, 7, 8, 9]\n"
     ]
    }
   ],
   "source": [
    "matrix = [[1, 2, 3], [4, 5, 6], [7, 8, 9]]\n",
    "flat = [x for row in matrix for x in row]\n",
    "print(flat)"
   ]
  },
  {
   "cell_type": "markdown",
   "metadata": {},
   "source": [
    "If you want to square the value in each cell of a two-dimensional matrix. "
   ]
  },
  {
   "cell_type": "code",
   "execution_count": 58,
   "metadata": {},
   "outputs": [
    {
     "name": "stdout",
     "output_type": "stream",
     "text": [
      "[[1, 4, 9], [16, 25, 36], [49, 64, 81]]\n"
     ]
    }
   ],
   "source": [
    "squared = [[x**2 for x in row] for row in matrix]\n",
    "print(squared)"
   ]
  },
  {
   "cell_type": "markdown",
   "metadata": {},
   "source": [
    "If you want to filter a list of numbers to only even values greater than four. These two list comprehensions are equivalent."
   ]
  },
  {
   "cell_type": "code",
   "execution_count": 61,
   "metadata": {},
   "outputs": [
    {
     "name": "stdout",
     "output_type": "stream",
     "text": [
      "a                                     : [1, 2, 3, 4, 5, 6, 7, 8, 9, 10]\n",
      "[x for x in a if x > 4 if x % 2 == 0] : [6, 8, 10]\n",
      "[x for x in a if x > 4 and x % 2 == 0]: [6, 8, 10]\n"
     ]
    }
   ],
   "source": [
    "a = [1, 2, 3, 4, 5, 6, 7, 8, 9, 10]\n",
    "b = [x for x in a if x > 4 if x % 2 == 0]\n",
    "c = [x for x in a if x > 4 and x % 2 == 0]\n",
    "print('a                                     :', a)\n",
    "print('[x for x in a if x > 4 if x % 2 == 0] :', b)\n",
    "print('[x for x in a if x > 4 and x % 2 == 0]:', c)"
   ]
  },
  {
   "cell_type": "markdown",
   "metadata": {},
   "source": [
    "If you want to filter a matrix so the only cells remaining are those divisible by 3 in rows that sum to 10 or higher. This example works, but is too complicated to understand."
   ]
  },
  {
   "cell_type": "code",
   "execution_count": 62,
   "metadata": {},
   "outputs": [
    {
     "name": "stdout",
     "output_type": "stream",
     "text": [
      "[[6], [9]]\n"
     ]
    }
   ],
   "source": [
    "matrix = [[1, 2, 3], [4, 5, 6], [7, 8, 9]]\n",
    "filtered = [[x for x in row if x % 3 == 0]\n",
    "            for row in matrix if sum(row) >= 10]\n",
    "print(filtered)"
   ]
  },
  {
   "cell_type": "markdown",
   "metadata": {},
   "source": [
    "# Item 9: Consider Generator Expressions For Large Comprehensions\n",
    "\n",
    "Here is a list of strings and a comprhension that returns a list of the length of each string in the list."
   ]
  },
  {
   "cell_type": "code",
   "execution_count": 65,
   "metadata": {},
   "outputs": [
    {
     "name": "stdout",
     "output_type": "stream",
     "text": [
      "[3, 3, 5, 4, 4]\n"
     ]
    }
   ],
   "source": [
    "tmp = ['one', 'two', 'three', 'four', 'five']\n",
    "value = [len(x) for x in tmp]\n",
    "print(value)"
   ]
  },
  {
   "cell_type": "markdown",
   "metadata": {},
   "source": [
    "By surrounding the comprehension with parentheses instead of brackets we can create a generator."
   ]
  },
  {
   "cell_type": "code",
   "execution_count": 66,
   "metadata": {},
   "outputs": [
    {
     "name": "stdout",
     "output_type": "stream",
     "text": [
      "<generator object <genexpr> at 0x000001BF62B0D360>\n"
     ]
    }
   ],
   "source": [
    "it = (len(x) for x in tmp)\n",
    "print(it)"
   ]
  },
  {
   "cell_type": "markdown",
   "metadata": {},
   "source": [
    "The iterator can be consumed with the built in `next()` function."
   ]
  },
  {
   "cell_type": "code",
   "execution_count": 68,
   "metadata": {},
   "outputs": [
    {
     "name": "stdout",
     "output_type": "stream",
     "text": [
      "5\n",
      "4\n"
     ]
    }
   ],
   "source": [
    "print(next(it))\n",
    "print(next(it))"
   ]
  },
  {
   "cell_type": "markdown",
   "metadata": {},
   "source": [
    "You can also compose generators using a generator:"
   ]
  },
  {
   "cell_type": "code",
   "execution_count": 71,
   "metadata": {},
   "outputs": [
    {
     "name": "stdout",
     "output_type": "stream",
     "text": [
      "(4, 2.0)\n"
     ]
    }
   ],
   "source": [
    "roots = ((x, x**0.5) for x in it)\n",
    "print(next(roots))"
   ]
  },
  {
   "cell_type": "markdown",
   "metadata": {},
   "source": [
    "# Item 10: Prefer Enumerate Over Range\n",
    "\n",
    "The range built-in function is useful for loops that iterate over a set of integers."
   ]
  },
  {
   "cell_type": "code",
   "execution_count": 76,
   "metadata": {},
   "outputs": [],
   "source": [
    "import random\n",
    "\n",
    "random_bits = 0\n",
    "for i in range(64):\n",
    "    if random.randint(0, 1):\n",
    "        random_bits |= 1 << i"
   ]
  },
  {
   "cell_type": "markdown",
   "metadata": {},
   "source": [
    "`enumerate` wraps any iterator with a lazy generator. This generator yields pairs of the loop index and the next value from the iterator. "
   ]
  },
  {
   "cell_type": "markdown",
   "metadata": {},
   "source": [
    "flavor_list = ['vanilla', 'chocolate', 'pecan', 'strawberry']\n",
    "for i, flavor in enumerate(flavor_list):\n",
    "    print('%d: %s' % (i + 1, flavor))"
   ]
  },
  {
   "cell_type": "markdown",
   "metadata": {},
   "source": [
    "# Item 11: Use zip to Process Iterators in  Parallel\n",
    "\n",
    "zip wraps two or more iterators with a lazy generator. "
   ]
  },
  {
   "cell_type": "code",
   "execution_count": 81,
   "metadata": {},
   "outputs": [
    {
     "name": "stdout",
     "output_type": "stream",
     "text": [
      "the word with the max letters was Cecilia with 7\n"
     ]
    }
   ],
   "source": [
    "names = ['Cecilia', 'Lise', 'Marie']\n",
    "letters = [len(n) for n in names]\n",
    "max_letters = 0\n",
    "for name, count in zip(names, letters):\n",
    "    if count > max_letters:\n",
    "        longest_name = name\n",
    "        max_letters = count\n",
    "print('the word with the max letters was %s with %d' % (longest_name, max_letters))"
   ]
  },
  {
   "cell_type": "markdown",
   "metadata": {},
   "source": [
    "# Item 12: Avoid Else Blocks After For And While Loops\n",
    "\n",
    "Python loops have an extra feature that is not available in most other programming languages: you can put an else block immediately after a loop’s repeated interior block."
   ]
  },
  {
   "cell_type": "code",
   "execution_count": 82,
   "metadata": {},
   "outputs": [
    {
     "name": "stdout",
     "output_type": "stream",
     "text": [
      "Loop 0\n",
      "Loop 1\n",
      "Loop 2\n",
      "Else block!\n"
     ]
    }
   ],
   "source": [
    "for i in range(3):\n",
    "    print('Loop %d' % i)\n",
    "else:\n",
    "    print('Else block!')"
   ]
  },
  {
   "cell_type": "markdown",
   "metadata": {},
   "source": [
    "Using a break statement in a loop will actually skip the else block."
   ]
  },
  {
   "cell_type": "code",
   "execution_count": 83,
   "metadata": {},
   "outputs": [
    {
     "name": "stdout",
     "output_type": "stream",
     "text": [
      "Loop 0\n",
      "Loop 1\n"
     ]
    }
   ],
   "source": [
    "for i in range(3):\n",
    "    print('Loop %d' % i)\n",
    "    if i == 1:\n",
    "        break\n",
    "else:\n",
    "    print('Else block!')"
   ]
  },
  {
   "cell_type": "markdown",
   "metadata": {},
   "source": [
    "The else block will run immediately if you loop over an empty sequence."
   ]
  },
  {
   "cell_type": "code",
   "execution_count": 84,
   "metadata": {},
   "outputs": [
    {
     "name": "stdout",
     "output_type": "stream",
     "text": [
      "For Else block!\n"
     ]
    }
   ],
   "source": [
    "for x in []:\n",
    "    print('Never runs')\n",
    "else:\n",
    "    print('For Else block!')"
   ]
  },
  {
   "cell_type": "markdown",
   "metadata": {},
   "source": [
    "The else block also runs when while loops are initially false."
   ]
  },
  {
   "cell_type": "code",
   "execution_count": 85,
   "metadata": {},
   "outputs": [
    {
     "name": "stdout",
     "output_type": "stream",
     "text": [
      "While Else block!\n"
     ]
    }
   ],
   "source": [
    "while False:\n",
    "    print('Never runs')\n",
    "else:\n",
    "    print('While Else block!')"
   ]
  },
  {
   "cell_type": "markdown",
   "metadata": {},
   "source": [
    "Instead of using an `else` block choose:\n",
    "* to return early when you find the condition you’re looking for. Return the default outcome if you fall through the loop."
   ]
  },
  {
   "cell_type": "code",
   "execution_count": 86,
   "metadata": {
    "collapsed": true
   },
   "outputs": [],
   "source": [
    "def coprime(a, b):\n",
    "    for i in range(2, min(a, b) + 1):\n",
    "        if a % i == 0 and b % i == 0:\n",
    "            return False\n",
    "    return True"
   ]
  },
  {
   "cell_type": "markdown",
   "metadata": {},
   "source": [
    "* to have a result variable that indicates whether you’ve found what you’re looking for in the loop. You break out of the loop as soon as you find something."
   ]
  },
  {
   "cell_type": "code",
   "execution_count": 87,
   "metadata": {
    "collapsed": true
   },
   "outputs": [],
   "source": [
    "def coprime2(a, b):\n",
    "    is_coprime = True\n",
    "    for i in range(2, min(a, b) + 1):\n",
    "        if a % i == 0 and b % i == 0:\n",
    "            is_coprime = False\n",
    "            break\n",
    "    return is_coprime"
   ]
  },
  {
   "cell_type": "markdown",
   "metadata": {},
   "source": [
    "# Item 13: Take Advantage Of Each Block In Try/Except/Else/Finally\n",
    "\n",
    "## Finally Blocks\n",
    "\n",
    "Use try/finally when you want exceptions to propagate up, but you also want to run cleanup code even when exceptions occur.\n",
    "\n",
    "## Else Blocks\n",
    "\n",
    "Use try/except/else to make it clear which exceptions will be handled by your code and which exceptions will propagate up. When the try block doesn’t raise an exception, the else block will run. "
   ]
  },
  {
   "cell_type": "markdown",
   "metadata": {},
   "source": [
    "## Everything Together\n",
    "\n",
    "Use try/except/else/finally when you want to do it all in one compound statement. For example, say you want to read a description of work to do from a file, process it, and then update the file in place. Here, the try block is used to read the file and process it. The except block is used to handle exceptions from the try block that are expected. The else block is used to update the file in place and to allow related exceptions to propagate up. The finally block cleans up the file handle."
   ]
  },
  {
   "cell_type": "code",
   "execution_count": null,
   "metadata": {
    "collapsed": true
   },
   "outputs": [],
   "source": [
    "UNDEFINED = object()\n",
    "\n",
    "def divide_json(path):\n",
    "    handle = open(path, 'r+')   # May raise IOError\n",
    "    try:\n",
    "        data = handle.read()    # May raise UnicodeDecodeError\n",
    "        op = json.loads(data)   # May raise ValueError\n",
    "        value = (\n",
    "            op['numerator'] /\n",
    "            op['denominator'])  # May raise ZeroDivisionError\n",
    "    except ZeroDivisionError as e:\n",
    "        return UNDEFINED\n",
    "    else:\n",
    "        op['result'] = value\n",
    "        result = json.dumps(op)\n",
    "        handle.seek(0)\n",
    "        handle.write(result)    # May raise IOError\n",
    "        return value\n",
    "    finally:\n",
    "        handle.close()          # Always runs"
   ]
  }
 ],
 "metadata": {
  "kernelspec": {
   "display_name": "Python 3",
   "language": "python",
   "name": "python3"
  },
  "language_info": {
   "codemirror_mode": {
    "name": "ipython",
    "version": 3
   },
   "file_extension": ".py",
   "mimetype": "text/x-python",
   "name": "python",
   "nbconvert_exporter": "python",
   "pygments_lexer": "ipython3",
   "version": "3.5.3"
  }
 },
 "nbformat": 4,
 "nbformat_minor": 2
}
