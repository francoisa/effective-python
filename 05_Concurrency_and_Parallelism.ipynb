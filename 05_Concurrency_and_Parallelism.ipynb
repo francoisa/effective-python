{
 "cells": [
  {
   "cell_type": "markdown",
   "metadata": {
    "collapsed": true
   },
   "source": [
    "# Item 36: Use subprocess to Manage Child Processes\n",
    "\n",
    "# Item 37: Use Threads for Blocking I/O, Avoid for Parallelism\n",
    "\n",
    "# Item 38: Use Lock to Prevent Data Races in Threads\n",
    "\n",
    "# Item 39: Use Queue to Coordinate Work Between Threads\n",
    "\n",
    "# Item 40: Consider Coroutines to Run Many Functions Concurrently\n",
    "\n",
    "# Item 41: Consider concurrent.futures for True Parallelism\n"
   ]
  }
 ],
 "metadata": {
  "kernelspec": {
   "display_name": "Python 3",
   "language": "python",
   "name": "python3"
  },
  "language_info": {
   "codemirror_mode": {
    "name": "ipython",
    "version": 3
   },
   "file_extension": ".py",
   "mimetype": "text/x-python",
   "name": "python",
   "nbconvert_exporter": "python",
   "pygments_lexer": "ipython3",
   "version": "3.5.3"
  }
 },
 "nbformat": 4,
 "nbformat_minor": 2
}
