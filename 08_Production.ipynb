{
 "cells": [
  {
   "cell_type": "markdown",
   "metadata": {
    "collapsed": true
   },
   "source": [
    "# Item 54: Consider Module-Scoped Code to Configure Deployment Environments\n",
    "\n",
    "# Item 55: Use repr Strings for Debugging Output\n",
    "\n",
    "# Item 56: Test Everything with unittest\n",
    "\n",
    "# Item 57: Consider Interactive Debugging with pdb\n",
    "\n",
    "# Item 58: Profile Before Optimizing\n",
    "\n",
    "# Item 59: Use tracemalloc to Understand Memory Usage and Leaks"
   ]
  }
 ],
 "metadata": {
  "kernelspec": {
   "display_name": "Python 3",
   "language": "python",
   "name": "python3"
  },
  "language_info": {
   "codemirror_mode": {
    "name": "ipython",
    "version": 3
   },
   "file_extension": ".py",
   "mimetype": "text/x-python",
   "name": "python",
   "nbconvert_exporter": "python",
   "pygments_lexer": "ipython3",
   "version": "3.5.3"
  }
 },
 "nbformat": 4,
 "nbformat_minor": 2
}
