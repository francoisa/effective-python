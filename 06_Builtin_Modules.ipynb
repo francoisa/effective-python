{
 "cells": [
  {
   "cell_type": "markdown",
   "metadata": {
    "collapsed": true
   },
   "source": [
    "# Item 42: Define Function Decorators with functools.wraps\n",
    "\n",
    "# Item 43: Consider contextlib and with Statements for Reusable try/finally Behavior\n",
    "\n",
    "# Item 44: Make pickle Reliable with copyreg\n",
    "\n",
    "# Item 45: Use datetime Instead of time for Local Clocks\n",
    "\n",
    "# Item 46: Use Built-in Algorithms and Data Structures\n",
    "\n",
    "# Item 47: Use decimal When Precision Is Paramount\n",
    "\n",
    "# Item 48: Know Where to Find Community-Built Modules"
   ]
  }
 ],
 "metadata": {
  "kernelspec": {
   "display_name": "Python 3",
   "language": "python",
   "name": "python3"
  },
  "language_info": {
   "codemirror_mode": {
    "name": "ipython",
    "version": 3
   },
   "file_extension": ".py",
   "mimetype": "text/x-python",
   "name": "python",
   "nbconvert_exporter": "python",
   "pygments_lexer": "ipython3",
   "version": "3.5.3"
  }
 },
 "nbformat": 4,
 "nbformat_minor": 2
}
